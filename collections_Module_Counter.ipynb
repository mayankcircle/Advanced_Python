{
  "nbformat": 4,
  "nbformat_minor": 0,
  "metadata": {
    "colab": {
      "name": "collections Module - Counter.ipynb",
      "provenance": [],
      "collapsed_sections": [],
      "authorship_tag": "ABX9TyOy+W1WVSxOVhgJqtNg2Srf",
      "include_colab_link": true
    },
    "kernelspec": {
      "name": "python3",
      "display_name": "Python 3"
    }
  },
  "cells": [
    {
      "cell_type": "markdown",
      "metadata": {
        "id": "view-in-github",
        "colab_type": "text"
      },
      "source": [
        "<a href=\"https://colab.research.google.com/github/mayankcircle/Advanced_Python/blob/main/collections_Module_Counter.ipynb\" target=\"_parent\"><img src=\"https://colab.research.google.com/assets/colab-badge.svg\" alt=\"Open In Colab\"/></a>"
      ]
    },
    {
      "cell_type": "markdown",
      "metadata": {
        "id": "EKkofpq3BVwH"
      },
      "source": [
        "A Counter is a container that keeps track of how many times equivalent values are added. It can be used to implement the multiset data structures from c++."
      ]
    },
    {
      "cell_type": "code",
      "metadata": {
        "id": "AXi_13GQAo9H"
      },
      "source": [
        "from collections import Counter"
      ],
      "execution_count": 1,
      "outputs": []
    },
    {
      "cell_type": "markdown",
      "metadata": {
        "id": "QkGjcd6ECy7O"
      },
      "source": [
        "# Initialization"
      ]
    },
    {
      "cell_type": "code",
      "metadata": {
        "colab": {
          "base_uri": "https://localhost:8080/"
        },
        "id": "ztCZX5M5BiEX",
        "outputId": "cb4d173d-9489-487e-e4a6-8219c9c81a90"
      },
      "source": [
        "l = [\"a\",\"b\",\"a\",\"c\",\"a\",\"b\"]\n",
        "# returns a dict with freq\n",
        "Counter(l)"
      ],
      "execution_count": 5,
      "outputs": [
        {
          "output_type": "execute_result",
          "data": {
            "text/plain": [
              "Counter({'a': 3, 'b': 2, 'c': 1})"
            ]
          },
          "metadata": {
            "tags": []
          },
          "execution_count": 5
        }
      ]
    },
    {
      "cell_type": "code",
      "metadata": {
        "colab": {
          "base_uri": "https://localhost:8080/"
        },
        "id": "NEnY63i4CGbk",
        "outputId": "cf6b97b0-dc3f-4544-f9c0-7d65c5d20885"
      },
      "source": [
        "# initialize with freq of any char\n",
        "d = {\"a\":3,\"b\":2,\"c\":1}\n",
        "\n",
        "Counter(d)"
      ],
      "execution_count": 6,
      "outputs": [
        {
          "output_type": "execute_result",
          "data": {
            "text/plain": [
              "Counter({'a': 3, 'b': 2, 'c': 1})"
            ]
          },
          "metadata": {
            "tags": []
          },
          "execution_count": 6
        }
      ]
    },
    {
      "cell_type": "code",
      "metadata": {
        "colab": {
          "base_uri": "https://localhost:8080/"
        },
        "id": "LH3SEfJPCadb",
        "outputId": "b92991df-45c0-4005-8baf-8088e35d5c31"
      },
      "source": [
        "# initialize with freq of any char\n",
        "Counter(a=3,b=2,c=1)"
      ],
      "execution_count": 7,
      "outputs": [
        {
          "output_type": "execute_result",
          "data": {
            "text/plain": [
              "Counter({'a': 3, 'b': 2, 'c': 1})"
            ]
          },
          "metadata": {
            "tags": []
          },
          "execution_count": 7
        }
      ]
    },
    {
      "cell_type": "markdown",
      "metadata": {
        "id": "TI2qLhs0C22H"
      },
      "source": [
        "Populate (update) Counter"
      ]
    },
    {
      "cell_type": "code",
      "metadata": {
        "colab": {
          "base_uri": "https://localhost:8080/"
        },
        "id": "E2AbnafYC7nx",
        "outputId": "08c9d47d-90ae-4f91-e6f0-21964b81fcd0"
      },
      "source": [
        "# empty Counter\n",
        "c = Counter()\n",
        "c"
      ],
      "execution_count": 14,
      "outputs": [
        {
          "output_type": "execute_result",
          "data": {
            "text/plain": [
              "Counter()"
            ]
          },
          "metadata": {
            "tags": []
          },
          "execution_count": 14
        }
      ]
    },
    {
      "cell_type": "code",
      "metadata": {
        "colab": {
          "base_uri": "https://localhost:8080/"
        },
        "id": "obT-3_MEDEIN",
        "outputId": "88377ec1-99d9-4eee-f190-6518382fca84"
      },
      "source": [
        "c.update(\"abcdaab\")\n",
        "c"
      ],
      "execution_count": 15,
      "outputs": [
        {
          "output_type": "execute_result",
          "data": {
            "text/plain": [
              "Counter({'a': 3, 'b': 2, 'c': 1, 'd': 1})"
            ]
          },
          "metadata": {
            "tags": []
          },
          "execution_count": 15
        }
      ]
    },
    {
      "cell_type": "code",
      "metadata": {
        "colab": {
          "base_uri": "https://localhost:8080/"
        },
        "id": "tQDEq3f2DIfq",
        "outputId": "31cd852f-6167-442c-893f-85a62ec4d58b"
      },
      "source": [
        "c.update({\"a\":1,\"b\":2,\"c\":1})\n",
        "c"
      ],
      "execution_count": 16,
      "outputs": [
        {
          "output_type": "execute_result",
          "data": {
            "text/plain": [
              "Counter({'a': 4, 'b': 4, 'c': 2, 'd': 1})"
            ]
          },
          "metadata": {
            "tags": []
          },
          "execution_count": 16
        }
      ]
    },
    {
      "cell_type": "markdown",
      "metadata": {
        "id": "ncdvtY4KE7L2"
      },
      "source": [
        "# Accessing Counts"
      ]
    },
    {
      "cell_type": "markdown",
      "metadata": {
        "id": "2-QTw5aHFAD1"
      },
      "source": [
        "We can follow dictionary API"
      ]
    },
    {
      "cell_type": "code",
      "metadata": {
        "colab": {
          "base_uri": "https://localhost:8080/"
        },
        "id": "-pD4SrOqE-4p",
        "outputId": "6541b1f9-9c5a-4122-f444-573a3ae65531"
      },
      "source": [
        "c = Counter('abcdaab')\n",
        "\n",
        "for letter in 'abcde':\n",
        "    print('{} : {}'.format(letter, c[letter]))"
      ],
      "execution_count": 18,
      "outputs": [
        {
          "output_type": "stream",
          "text": [
            "a : 3\n",
            "b : 2\n",
            "c : 1\n",
            "d : 1\n",
            "e : 0\n"
          ],
          "name": "stdout"
        }
      ]
    },
    {
      "cell_type": "markdown",
      "metadata": {
        "id": "d4vQm0uZFJZw"
      },
      "source": [
        "**Counter is implemented using defaultdict so Counter does not raise KeyError for unknown items. If a value has not been seen in the input (as with e in this example), its count is 0.**"
      ]
    },
    {
      "cell_type": "code",
      "metadata": {
        "colab": {
          "base_uri": "https://localhost:8080/"
        },
        "id": "Ht5t_Um8FIRL",
        "outputId": "b5a77c4d-e2b6-4087-d490-d1e9438d1dac"
      },
      "source": [
        "# z is not in Counter\n",
        "c[\"z\"]"
      ],
      "execution_count": 19,
      "outputs": [
        {
          "output_type": "execute_result",
          "data": {
            "text/plain": [
              "0"
            ]
          },
          "metadata": {
            "tags": []
          },
          "execution_count": 19
        }
      ]
    },
    {
      "cell_type": "markdown",
      "metadata": {
        "id": "BQhSa01MFwHN"
      },
      "source": [
        "**The elements() method returns an iterator that produces all of the items known to the Counter.**"
      ]
    },
    {
      "cell_type": "code",
      "metadata": {
        "colab": {
          "base_uri": "https://localhost:8080/"
        },
        "id": "r-HYy0HeFalP",
        "outputId": "6d3833c2-21df-4910-e30a-55acd872d539"
      },
      "source": [
        "c"
      ],
      "execution_count": 20,
      "outputs": [
        {
          "output_type": "execute_result",
          "data": {
            "text/plain": [
              "Counter({'a': 3, 'b': 2, 'c': 1, 'd': 1})"
            ]
          },
          "metadata": {
            "tags": []
          },
          "execution_count": 20
        }
      ]
    },
    {
      "cell_type": "code",
      "metadata": {
        "colab": {
          "base_uri": "https://localhost:8080/"
        },
        "id": "DiAUPe78Fzit",
        "outputId": "db1bef15-650b-41f0-9244-445f7ca6a710"
      },
      "source": [
        "# iterator\n",
        "c.elements()"
      ],
      "execution_count": 21,
      "outputs": [
        {
          "output_type": "execute_result",
          "data": {
            "text/plain": [
              "<itertools.chain at 0x7f59d68ed080>"
            ]
          },
          "metadata": {
            "tags": []
          },
          "execution_count": 21
        }
      ]
    },
    {
      "cell_type": "code",
      "metadata": {
        "colab": {
          "base_uri": "https://localhost:8080/"
        },
        "id": "hl0OVmAEF5DH",
        "outputId": "e64cd87a-57c7-4fb6-95d5-06cc114117ea"
      },
      "source": [
        "list(c.elements())"
      ],
      "execution_count": 22,
      "outputs": [
        {
          "output_type": "execute_result",
          "data": {
            "text/plain": [
              "['a', 'a', 'a', 'b', 'b', 'c', 'd']"
            ]
          },
          "metadata": {
            "tags": []
          },
          "execution_count": 22
        }
      ]
    },
    {
      "cell_type": "markdown",
      "metadata": {
        "id": "Tr0TsEC_GLoX"
      },
      "source": [
        "# Getting n most frequent item"
      ]
    },
    {
      "cell_type": "markdown",
      "metadata": {
        "id": "LtC6bTLoGxKX"
      },
      "source": [
        "Use most_common() to produce a sequence of the n most frequently encountered input values and their respective counts."
      ]
    },
    {
      "cell_type": "code",
      "metadata": {
        "colab": {
          "base_uri": "https://localhost:8080/"
        },
        "id": "SSCYXUr9Gx4y",
        "outputId": "a873f28a-a316-4c8c-97af-168137bdd597"
      },
      "source": [
        "c = Counter('abcdaabcccc')\n",
        "c"
      ],
      "execution_count": 23,
      "outputs": [
        {
          "output_type": "execute_result",
          "data": {
            "text/plain": [
              "Counter({'a': 3, 'b': 2, 'c': 5, 'd': 1})"
            ]
          },
          "metadata": {
            "tags": []
          },
          "execution_count": 23
        }
      ]
    },
    {
      "cell_type": "code",
      "metadata": {
        "colab": {
          "base_uri": "https://localhost:8080/"
        },
        "id": "ohZPKJeAG_h9",
        "outputId": "dfe8e601-78bd-4817-9bdc-9cd337a108a3"
      },
      "source": [
        "c.most_common(2)"
      ],
      "execution_count": 24,
      "outputs": [
        {
          "output_type": "execute_result",
          "data": {
            "text/plain": [
              "[('c', 5), ('a', 3)]"
            ]
          },
          "metadata": {
            "tags": []
          },
          "execution_count": 24
        }
      ]
    },
    {
      "cell_type": "markdown",
      "metadata": {
        "id": "441Xkdl4Hk3G"
      },
      "source": [
        "# Arithmetic"
      ]
    },
    {
      "cell_type": "markdown",
      "metadata": {
        "id": "RQ_0pAtwHnag"
      },
      "source": [
        "Counter instances support arithmetic and set operations for aggregating results. This example shows the standard operators for creating new Counter instances, but the in-place operators +=, -=, &=, and |= are also supported."
      ]
    },
    {
      "cell_type": "code",
      "metadata": {
        "colab": {
          "base_uri": "https://localhost:8080/"
        },
        "id": "9lYIMPZ5HoXz",
        "outputId": "94db9532-5dcb-4dfa-c572-ff0682397d67"
      },
      "source": [
        "c1 = Counter(['a', 'b', 'c', 'a', 'b', 'b'])\n",
        "c2 = Counter('alphabet')\n",
        "\n",
        "print('C1:', c1)\n",
        "print('C2:', c2)\n",
        "\n",
        "print('\\nCombined counts:')\n",
        "print(c1 + c2)\n",
        "\n",
        "print('\\nSubtraction:')\n",
        "print(c1 - c2)\n",
        "\n",
        "print('\\nIntersection (taking positive minimums):')\n",
        "print(c1 & c2)\n",
        "\n",
        "print('\\nUnion (taking maximums):')\n",
        "print(c1 | c2)"
      ],
      "execution_count": 25,
      "outputs": [
        {
          "output_type": "stream",
          "text": [
            "C1: Counter({'b': 3, 'a': 2, 'c': 1})\n",
            "C2: Counter({'a': 2, 'l': 1, 'p': 1, 'h': 1, 'b': 1, 'e': 1, 't': 1})\n",
            "\n",
            "Combined counts:\n",
            "Counter({'a': 4, 'b': 4, 'c': 1, 'l': 1, 'p': 1, 'h': 1, 'e': 1, 't': 1})\n",
            "\n",
            "Subtraction:\n",
            "Counter({'b': 2, 'c': 1})\n",
            "\n",
            "Intersection (taking positive minimums):\n",
            "Counter({'a': 2, 'b': 1})\n",
            "\n",
            "Union (taking maximums):\n",
            "Counter({'b': 3, 'a': 2, 'c': 1, 'l': 1, 'p': 1, 'h': 1, 'e': 1, 't': 1})\n"
          ],
          "name": "stdout"
        }
      ]
    }
  ]
}