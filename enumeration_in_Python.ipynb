{
  "nbformat": 4,
  "nbformat_minor": 0,
  "metadata": {
    "colab": {
      "name": "enumeration in Python.ipynb",
      "provenance": [],
      "collapsed_sections": [],
      "authorship_tag": "ABX9TyMS6aDa3luc2GJYyWFQSpMY",
      "include_colab_link": true
    },
    "kernelspec": {
      "name": "python3",
      "display_name": "Python 3"
    }
  },
  "cells": [
    {
      "cell_type": "markdown",
      "metadata": {
        "id": "view-in-github",
        "colab_type": "text"
      },
      "source": [
        "<a href=\"https://colab.research.google.com/github/mayankcircle/Advanced_Python/blob/main/enumeration_in_Python.ipynb\" target=\"_parent\"><img src=\"https://colab.research.google.com/assets/colab-badge.svg\" alt=\"Open In Colab\"/></a>"
      ]
    },
    {
      "cell_type": "code",
      "metadata": {
        "id": "fZZZkcNdki9f"
      },
      "source": [
        "import enum"
      ],
      "execution_count": null,
      "outputs": []
    },
    {
      "cell_type": "markdown",
      "metadata": {
        "id": "3IUk2Fm_k-he"
      },
      "source": [
        "# Creating Enumerations"
      ]
    },
    {
      "cell_type": "markdown",
      "metadata": {
        "id": "safcb5o-FhHu"
      },
      "source": [
        "A new enumeration is defined using the class syntax by subclassing Enum and adding class attributes describing the values."
      ]
    },
    {
      "cell_type": "code",
      "metadata": {
        "id": "WYjP8X2LxzYS"
      },
      "source": [
        "class BugStatus(enum.Enum):\n",
        "\n",
        "    new = 7\n",
        "    incomplete = 6\n",
        "    invalid = 4\n",
        "    wont_fix = 5\n",
        "    in_progress = 3\n"
      ],
      "execution_count": 2,
      "outputs": []
    },
    {
      "cell_type": "code",
      "metadata": {
        "colab": {
          "base_uri": "https://localhost:8080/"
        },
        "id": "UalnPbBhIGw9",
        "outputId": "7d8fa5d8-a1e8-408a-e2b9-47533d43060e"
      },
      "source": [
        "# Member is an object of enum class\n",
        "BugStatus.new"
      ],
      "execution_count": 7,
      "outputs": [
        {
          "output_type": "execute_result",
          "data": {
            "text/plain": [
              "<BugStatus.new: 7>"
            ]
          },
          "metadata": {
            "tags": []
          },
          "execution_count": 7
        }
      ]
    },
    {
      "cell_type": "markdown",
      "metadata": {
        "id": "9l61aGSjGHVO"
      },
      "source": [
        "The members of the Enum are converted to instances as the class is parsed. Each instance has a name property corresponding to the member name and a value property corresponding to the value assigned to the name in the class definition."
      ]
    },
    {
      "cell_type": "code",
      "metadata": {
        "colab": {
          "base_uri": "https://localhost:8080/"
        },
        "id": "KTetAC5KGNDj",
        "outputId": "67cd2eb2-8030-4164-f48d-9e7d52f02d5e"
      },
      "source": [
        "print(\"Member Name : \", BugStatus.new.name)\n",
        "print(\"Member Value : \", BugStatus.new.value)"
      ],
      "execution_count": 3,
      "outputs": [
        {
          "output_type": "stream",
          "text": [
            "Member Name :  new\n",
            "Member Value :  7\n"
          ],
          "name": "stdout"
        }
      ]
    },
    {
      "cell_type": "markdown",
      "metadata": {
        "id": "hkHlC_3GlRZd"
      },
      "source": [
        "# Iteration on Enumerations"
      ]
    },
    {
      "cell_type": "markdown",
      "metadata": {
        "id": "_agFRJBzFXpM"
      },
      "source": [
        "**iteration**"
      ]
    },
    {
      "cell_type": "code",
      "metadata": {
        "colab": {
          "base_uri": "https://localhost:8080/"
        },
        "id": "UAu7Y1XjGnDX",
        "outputId": "8934964a-7b19-46d7-d3c6-4f45ed2f8ee0"
      },
      "source": [
        "for status in BugStatus:\n",
        "    print(\"{:15} = {}\".format(status.name,status.value))"
      ],
      "execution_count": 4,
      "outputs": [
        {
          "output_type": "stream",
          "text": [
            "new             = 7\n",
            "incomplete      = 6\n",
            "invalid         = 4\n",
            "wont_fix        = 5\n",
            "in_progress     = 3\n"
          ],
          "name": "stdout"
        }
      ]
    },
    {
      "cell_type": "markdown",
      "metadata": {
        "id": "hGl8gnHZlWHt"
      },
      "source": [
        "# Comparisions on Enums"
      ]
    },
    {
      "cell_type": "markdown",
      "metadata": {
        "id": "rjR-EKYWIY0n"
      },
      "source": [
        "**Comparing Enums**"
      ]
    },
    {
      "cell_type": "code",
      "metadata": {
        "colab": {
          "base_uri": "https://localhost:8080/"
        },
        "id": "WqCAgkSlIKBw",
        "outputId": "97961b59-9c4a-404b-8796-f2c064f7b5e0"
      },
      "source": [
        "BugStatus.in_progress is BugStatus.invalid"
      ],
      "execution_count": 8,
      "outputs": [
        {
          "output_type": "execute_result",
          "data": {
            "text/plain": [
              "False"
            ]
          },
          "metadata": {
            "tags": []
          },
          "execution_count": 8
        }
      ]
    },
    {
      "cell_type": "markdown",
      "metadata": {
        "id": "--yKHI09IrXj"
      },
      "source": [
        "OR alternative way is"
      ]
    },
    {
      "cell_type": "code",
      "metadata": {
        "colab": {
          "base_uri": "https://localhost:8080/"
        },
        "id": "8SiVWnhVIp3T",
        "outputId": "486e0907-9684-47dc-9c74-ae79b3b3192c"
      },
      "source": [
        "BugStatus.in_progress == BugStatus.invalid"
      ],
      "execution_count": 9,
      "outputs": [
        {
          "output_type": "execute_result",
          "data": {
            "text/plain": [
              "False"
            ]
          },
          "metadata": {
            "tags": []
          },
          "execution_count": 9
        }
      ]
    },
    {
      "cell_type": "markdown",
      "metadata": {
        "id": "eOyJO5rTJDAA"
      },
      "source": [
        "The greater-than and less-than comparison operators raise **TypeError** exceptions."
      ]
    },
    {
      "cell_type": "code",
      "metadata": {
        "colab": {
          "base_uri": "https://localhost:8080/",
          "height": 167
        },
        "id": "fmlB9QwxJBfr",
        "outputId": "ac928a29-0725-46b4-c5a3-c1913204f85a"
      },
      "source": [
        "BugStatus.in_progress > BugStatus.invalid"
      ],
      "execution_count": 11,
      "outputs": [
        {
          "output_type": "error",
          "ename": "TypeError",
          "evalue": "ignored",
          "traceback": [
            "\u001b[0;31m---------------------------------------------------------------------------\u001b[0m",
            "\u001b[0;31mTypeError\u001b[0m                                 Traceback (most recent call last)",
            "\u001b[0;32m<ipython-input-11-ebb4dc6afdcc>\u001b[0m in \u001b[0;36m<module>\u001b[0;34m()\u001b[0m\n\u001b[0;32m----> 1\u001b[0;31m \u001b[0mBugStatus\u001b[0m\u001b[0;34m.\u001b[0m\u001b[0min_progress\u001b[0m \u001b[0;34m>\u001b[0m \u001b[0mBugStatus\u001b[0m\u001b[0;34m.\u001b[0m\u001b[0minvalid\u001b[0m\u001b[0;34m\u001b[0m\u001b[0;34m\u001b[0m\u001b[0m\n\u001b[0m",
            "\u001b[0;31mTypeError\u001b[0m: '>' not supported between instances of 'BugStatus' and 'BugStatus'"
          ]
        }
      ]
    },
    {
      "cell_type": "markdown",
      "metadata": {
        "id": "lsiZv_7jKLAT"
      },
      "source": [
        "**If we still want to use <,> comparision operator then we need to inherit IntEnum class**"
      ]
    },
    {
      "cell_type": "markdown",
      "metadata": {
        "id": "pGKj6SsVKQ99"
      },
      "source": [
        "Use the IntEnum class for enumerations where the members need to behave more like numbers—for example, to support comparisons."
      ]
    },
    {
      "cell_type": "code",
      "metadata": {
        "id": "paGoZtq_KKYe"
      },
      "source": [
        "class BugIntStatus(enum.IntEnum):\n",
        "\n",
        "    new = 7\n",
        "    incomplete = 6\n",
        "    invalid = 4\n",
        "    wont_fix = 5\n",
        "    in_progress = 3\n"
      ],
      "execution_count": 12,
      "outputs": []
    },
    {
      "cell_type": "code",
      "metadata": {
        "colab": {
          "base_uri": "https://localhost:8080/"
        },
        "id": "VZ3gYbCuLMtn",
        "outputId": "2a0e69d8-9dc6-45dc-fdb1-db68bd80c8ca"
      },
      "source": [
        "# No TypeError\n",
        "BugIntStatus.in_progress > BugIntStatus.invalid"
      ],
      "execution_count": 14,
      "outputs": [
        {
          "output_type": "execute_result",
          "data": {
            "text/plain": [
              "False"
            ]
          },
          "metadata": {
            "tags": []
          },
          "execution_count": 14
        }
      ]
    },
    {
      "cell_type": "code",
      "metadata": {
        "colab": {
          "base_uri": "https://localhost:8080/"
        },
        "id": "v37MPDHmLVtQ",
        "outputId": "b2446581-cb40-48f0-b627-a4ec97969124"
      },
      "source": [
        "# sort\n",
        "[s for s in sorted(BugIntStatus)]"
      ],
      "execution_count": 16,
      "outputs": [
        {
          "output_type": "execute_result",
          "data": {
            "text/plain": [
              "[<BugIntStatus.in_progress: 3>,\n",
              " <BugIntStatus.invalid: 4>,\n",
              " <BugIntStatus.wont_fix: 5>,\n",
              " <BugIntStatus.incomplete: 6>,\n",
              " <BugIntStatus.new: 7>]"
            ]
          },
          "metadata": {
            "tags": []
          },
          "execution_count": 16
        }
      ]
    },
    {
      "cell_type": "markdown",
      "metadata": {
        "id": "D468Uqk_lfaW"
      },
      "source": [
        "# Enumeration with Unique Enum values"
      ]
    },
    {
      "cell_type": "markdown",
      "metadata": {
        "id": "UNh9qwUbf1Hu"
      },
      "source": [
        "**Unique Enumeration Values**"
      ]
    },
    {
      "cell_type": "markdown",
      "metadata": {
        "id": "1JEUsIo8f3F3"
      },
      "source": [
        "The main Objective of having Enum is having unique values. If there are two keys having same enum. value then automatically it assigns for first one. "
      ]
    },
    {
      "cell_type": "markdown",
      "metadata": {
        "id": "0w203aGJgP9J"
      },
      "source": [
        "Enum members with the same value are tracked as alias references to the same member object. Aliases do not cause repeated values to be present in the iterator for the Enum."
      ]
    },
    {
      "cell_type": "code",
      "metadata": {
        "id": "i0Qea5f3fxI3"
      },
      "source": [
        "class BugStatus(enum.Enum):\n",
        "\n",
        "    new = 7\n",
        "    incomplete = 6\n",
        "    invalid = 5\n",
        "    wont_fix = 4\n",
        "    in_progress = 3\n",
        "    fix_committed = 2\n",
        "    fix_released = 1\n",
        "\n",
        "    by_design = 4\n",
        "    closed = 1"
      ],
      "execution_count": 22,
      "outputs": []
    },
    {
      "cell_type": "code",
      "metadata": {
        "colab": {
          "base_uri": "https://localhost:8080/"
        },
        "id": "qYaUn3LdgXt6",
        "outputId": "1e7f0b88-dc64-44cb-c947-f36dae211e60"
      },
      "source": [
        "# Because by_design and closed are aliases for other members, they do not appear separately in the output when iterating over the Enum. \n",
        "# The canonical name for a member is the first name attached to the value.\n",
        "for status in BugStatus:\n",
        "    print('{:15} = {}'.format(status.name, status.value))"
      ],
      "execution_count": 23,
      "outputs": [
        {
          "output_type": "stream",
          "text": [
            "new             = 7\n",
            "incomplete      = 6\n",
            "invalid         = 5\n",
            "wont_fix        = 4\n",
            "in_progress     = 3\n",
            "fix_committed   = 2\n",
            "fix_released    = 1\n"
          ],
          "name": "stdout"
        }
      ]
    },
    {
      "cell_type": "code",
      "metadata": {
        "colab": {
          "base_uri": "https://localhost:8080/"
        },
        "id": "JgfSbXXhgnaH",
        "outputId": "21851d91-8e0f-4c9b-e1a5-ca4fdacd4165"
      },
      "source": [
        "BugStatus.wont_fix is BugStatus.by_design"
      ],
      "execution_count": 24,
      "outputs": [
        {
          "output_type": "execute_result",
          "data": {
            "text/plain": [
              "True"
            ]
          },
          "metadata": {
            "tags": []
          },
          "execution_count": 24
        }
      ]
    },
    {
      "cell_type": "markdown",
      "metadata": {
        "id": "P5gdExx4hCtP"
      },
      "source": [
        "**To require all members to have unique values, add the @unique decorator to the Enum.**"
      ]
    },
    {
      "cell_type": "code",
      "metadata": {
        "colab": {
          "base_uri": "https://localhost:8080/",
          "height": 363
        },
        "id": "c9H0o46ZhCSe",
        "outputId": "7fc09e3f-98c4-44fd-8009-1ac237fcf437"
      },
      "source": [
        "@enum.unique\n",
        "class BigUniqueStatus(enum.Enum):\n",
        "\n",
        "    new = 7\n",
        "    incomplete = 6\n",
        "    invalid = 5\n",
        "    wont_fix = 4\n",
        "\n",
        "    # this will trigger ValueError due to unique constraint\n",
        "    by_design = 4"
      ],
      "execution_count": 29,
      "outputs": [
        {
          "output_type": "error",
          "ename": "ValueError",
          "evalue": "ignored",
          "traceback": [
            "\u001b[0;31m---------------------------------------------------------------------------\u001b[0m",
            "\u001b[0;31mValueError\u001b[0m                                Traceback (most recent call last)",
            "\u001b[0;32m<ipython-input-29-78758906f4ec>\u001b[0m in \u001b[0;36m<module>\u001b[0;34m()\u001b[0m\n\u001b[1;32m      1\u001b[0m \u001b[0;34m@\u001b[0m\u001b[0menum\u001b[0m\u001b[0;34m.\u001b[0m\u001b[0munique\u001b[0m\u001b[0;34m\u001b[0m\u001b[0;34m\u001b[0m\u001b[0m\n\u001b[0;32m----> 2\u001b[0;31m \u001b[0;32mclass\u001b[0m \u001b[0mBigUniqueStatus\u001b[0m\u001b[0;34m(\u001b[0m\u001b[0menum\u001b[0m\u001b[0;34m.\u001b[0m\u001b[0mEnum\u001b[0m\u001b[0;34m)\u001b[0m\u001b[0;34m:\u001b[0m\u001b[0;34m\u001b[0m\u001b[0;34m\u001b[0m\u001b[0m\n\u001b[0m\u001b[1;32m      3\u001b[0m \u001b[0;34m\u001b[0m\u001b[0m\n\u001b[1;32m      4\u001b[0m     \u001b[0mnew\u001b[0m \u001b[0;34m=\u001b[0m \u001b[0;36m7\u001b[0m\u001b[0;34m\u001b[0m\u001b[0;34m\u001b[0m\u001b[0m\n\u001b[1;32m      5\u001b[0m     \u001b[0mincomplete\u001b[0m \u001b[0;34m=\u001b[0m \u001b[0;36m6\u001b[0m\u001b[0;34m\u001b[0m\u001b[0;34m\u001b[0m\u001b[0m\n",
            "\u001b[0;32m/usr/lib/python3.6/enum.py\u001b[0m in \u001b[0;36munique\u001b[0;34m(enumeration)\u001b[0m\n\u001b[1;32m    834\u001b[0m                 [\"%s -> %s\" % (alias, name) for (alias, name) in duplicates])\n\u001b[1;32m    835\u001b[0m         raise ValueError('duplicate values found in %r: %s' %\n\u001b[0;32m--> 836\u001b[0;31m                 (enumeration, alias_details))\n\u001b[0m\u001b[1;32m    837\u001b[0m     \u001b[0;32mreturn\u001b[0m \u001b[0menumeration\u001b[0m\u001b[0;34m\u001b[0m\u001b[0;34m\u001b[0m\u001b[0m\n\u001b[1;32m    838\u001b[0m \u001b[0;34m\u001b[0m\u001b[0m\n",
            "\u001b[0;31mValueError\u001b[0m: duplicate values found in <enum 'BigUniqueStatus'>: by_design -> wont_fix"
          ]
        }
      ]
    },
    {
      "cell_type": "markdown",
      "metadata": {
        "id": "MokExztblqQk"
      },
      "source": [
        "# Creating Enum Programatically (Dynamically)"
      ]
    },
    {
      "cell_type": "markdown",
      "metadata": {
        "id": "DZVvUbv2mV54"
      },
      "source": [
        "Enum also supports passing the member names and values to the class constructor."
      ]
    },
    {
      "cell_type": "markdown",
      "metadata": {
        "id": "KCGNcXQ9n5jO"
      },
      "source": [
        "**Initialize using String**"
      ]
    },
    {
      "cell_type": "code",
      "metadata": {
        "id": "0g5LsashhgXV"
      },
      "source": [
        "BugStat = enum.Enum(\n",
        "    value = \"MyBugStat\", # Name of the enumeration\n",
        "    names = \"new fix invalid fix_released\" # names argument is list of members, automatically assigned value start from 1 by default\n",
        "                                           # It can be string that can be auto split by WhiteSpaces and comma\n",
        "                                           # Dictionary\n",
        "                                           # List of Tuples \n",
        ")"
      ],
      "execution_count": 38,
      "outputs": []
    },
    {
      "cell_type": "code",
      "metadata": {
        "colab": {
          "base_uri": "https://localhost:8080/"
        },
        "id": "Thk0Iv2im-Ic",
        "outputId": "01553723-72d4-4668-d9c4-2f0a048ef209"
      },
      "source": [
        "BugStat.new"
      ],
      "execution_count": 39,
      "outputs": [
        {
          "output_type": "execute_result",
          "data": {
            "text/plain": [
              "<MyBugStat.new: 1>"
            ]
          },
          "metadata": {
            "tags": []
          },
          "execution_count": 39
        }
      ]
    },
    {
      "cell_type": "code",
      "metadata": {
        "colab": {
          "base_uri": "https://localhost:8080/"
        },
        "id": "r-KW1XKpm4_u",
        "outputId": "1a57798a-4e88-4967-dbb7-1342f50b6274"
      },
      "source": [
        "for status in BugStat:\n",
        "    print('{:15} = {}'.format(status.name, status.value))"
      ],
      "execution_count": 40,
      "outputs": [
        {
          "output_type": "stream",
          "text": [
            "new             = 1\n",
            "fix             = 2\n",
            "invalid         = 3\n",
            "fix_released    = 4\n"
          ],
          "name": "stdout"
        }
      ]
    },
    {
      "cell_type": "markdown",
      "metadata": {
        "id": "VyiZ8N3bn-mz"
      },
      "source": [
        "**Initialize using list of tuples**"
      ]
    },
    {
      "cell_type": "code",
      "metadata": {
        "id": "WCiZbaVpn2PZ"
      },
      "source": [
        "BugStat = enum.Enum(\n",
        "    value = \"MyBugStat\", # Name of the enumeration\n",
        "    names = [(\"new\",4),(\"fix\",10),(\"wont_fix\",0)] # names argument is list of members, automatically assigned value start from 1 by default\n",
        "                                           # It can be string that can be auto split by WhiteSpaces and comma\n",
        "                                           # Dictionary\n",
        "                                           # List of Tuples \n",
        ")"
      ],
      "execution_count": 41,
      "outputs": []
    },
    {
      "cell_type": "code",
      "metadata": {
        "colab": {
          "base_uri": "https://localhost:8080/"
        },
        "id": "O8ySFzljn2Pa",
        "outputId": "14d10506-44e1-4b4c-fe3d-48a4eba24153"
      },
      "source": [
        "BugStat.new"
      ],
      "execution_count": 42,
      "outputs": [
        {
          "output_type": "execute_result",
          "data": {
            "text/plain": [
              "<MyBugStat.new: 4>"
            ]
          },
          "metadata": {
            "tags": []
          },
          "execution_count": 42
        }
      ]
    },
    {
      "cell_type": "code",
      "metadata": {
        "colab": {
          "base_uri": "https://localhost:8080/"
        },
        "id": "ggXEsMsDn2Pc",
        "outputId": "2fcc5f60-65b7-427a-c469-6937b93b94eb"
      },
      "source": [
        "for status in BugStat:\n",
        "    print('{:15} = {}'.format(status.name, status.value))"
      ],
      "execution_count": 43,
      "outputs": [
        {
          "output_type": "stream",
          "text": [
            "new             = 4\n",
            "fix             = 10\n",
            "wont_fix        = 0\n"
          ],
          "name": "stdout"
        }
      ]
    },
    {
      "cell_type": "markdown",
      "metadata": {
        "id": "eQ9ucNS6ocL5"
      },
      "source": [
        "**Initialize using dictionary**"
      ]
    },
    {
      "cell_type": "code",
      "metadata": {
        "id": "tGH_ti03ocL5"
      },
      "source": [
        "BugStat = enum.Enum(\n",
        "    value = \"MyBugStat\", # Name of the enumeration\n",
        "    names = {\"new\":4,\"fix\":10,\"wont_fix\":0} # names argument is list of members, automatically assigned value start from 1 by default\n",
        "                                           # It can be string that can be auto split by WhiteSpaces and comma\n",
        "                                           # Dictionary\n",
        "                                           # List of Tuples \n",
        ")"
      ],
      "execution_count": 44,
      "outputs": []
    },
    {
      "cell_type": "code",
      "metadata": {
        "colab": {
          "base_uri": "https://localhost:8080/"
        },
        "id": "NkdkoBoiocL5",
        "outputId": "65d42862-323e-4620-9c6e-ad07b3bf654a"
      },
      "source": [
        "BugStat.new"
      ],
      "execution_count": 45,
      "outputs": [
        {
          "output_type": "execute_result",
          "data": {
            "text/plain": [
              "<MyBugStat.new: 4>"
            ]
          },
          "metadata": {
            "tags": []
          },
          "execution_count": 45
        }
      ]
    },
    {
      "cell_type": "code",
      "metadata": {
        "colab": {
          "base_uri": "https://localhost:8080/"
        },
        "id": "u1241OoOocL5",
        "outputId": "734d6571-8161-4dc8-ae0f-33116aa255a6"
      },
      "source": [
        "for status in BugStat:\n",
        "    print('{:15} = {}'.format(status.name, status.value))"
      ],
      "execution_count": 46,
      "outputs": [
        {
          "output_type": "stream",
          "text": [
            "new             = 4\n",
            "fix             = 10\n",
            "wont_fix        = 0\n"
          ],
          "name": "stdout"
        }
      ]
    },
    {
      "cell_type": "markdown",
      "metadata": {
        "id": "xUuMhKF1tH9p"
      },
      "source": [
        "# Create Enumeration with Non-Int or any Object member values"
      ]
    },
    {
      "cell_type": "markdown",
      "metadata": {
        "id": "YJOlN_1Vtl8I"
      },
      "source": [
        "Suppose we are making a process workflow (GRAPH) where from one stage (node), we can transition to another stage(node). THere are few restrictions such as from \"new\" stage, we can not go to directly \"fix_release\" state."
      ]
    },
    {
      "cell_type": "markdown",
      "metadata": {
        "id": "tRkpKw-NuClp"
      },
      "source": [
        "We can make entire workflow (GRAPH) using enum where member values are dictionary of having two attributes- num (value), transition (list of node(keys) to go for)"
      ]
    },
    {
      "cell_type": "code",
      "metadata": {
        "id": "F2r5th4tuadw"
      },
      "source": [
        "class ProcessWorkflow(enum.Enum):\n",
        "\n",
        "    new = {\n",
        "        'num': 7,\n",
        "        'transitions': [\n",
        "            'incomplete',\n",
        "            'invalid',\n",
        "            'wont_fix',\n",
        "            'in_progress',\n",
        "        ],\n",
        "    }\n",
        "    incomplete = {\n",
        "        'num': 6,\n",
        "        'transitions': ['new', 'wont_fix'],\n",
        "    }\n",
        "    invalid = {\n",
        "        'num': 5,\n",
        "        'transitions': ['new'],\n",
        "    }\n",
        "    wont_fix = {\n",
        "        'num': 4,\n",
        "        'transitions': ['new'],\n",
        "    }\n",
        "    in_progress = {\n",
        "        'num': 3,\n",
        "        'transitions': ['new', 'fix_committed'],\n",
        "    }\n",
        "    fix_committed = {\n",
        "        'num': 2,\n",
        "        'transitions': ['in_progress', 'fix_released'],\n",
        "    }\n",
        "    fix_released = {\n",
        "        'num': 1,\n",
        "        'transitions': ['new'],\n",
        "    }\n",
        "\n",
        "    def __init__(self,valdict):\n",
        "        self.num = valdict[\"num\"]\n",
        "        self.transitions = valdict[\"transitions\"]\n",
        "\n",
        "    def can_transition(self, new_state):\n",
        "        return new_state in self.transitions\n"
      ],
      "execution_count": 47,
      "outputs": []
    },
    {
      "cell_type": "code",
      "metadata": {
        "colab": {
          "base_uri": "https://localhost:8080/"
        },
        "id": "GuKGnP49vuj2",
        "outputId": "3259ed42-ccf1-4af4-a150-02d34c789b11"
      },
      "source": [
        "for stage in ProcessWorkflow:\n",
        "    print(\"{:15} = {:4} , {}\".format(stage.name,stage.num,stage.transitions))"
      ],
      "execution_count": 50,
      "outputs": [
        {
          "output_type": "stream",
          "text": [
            "new             =    7 , ['incomplete', 'invalid', 'wont_fix', 'in_progress']\n",
            "incomplete      =    6 , ['new', 'wont_fix']\n",
            "invalid         =    5 , ['new']\n",
            "wont_fix        =    4 , ['new']\n",
            "in_progress     =    3 , ['new', 'fix_committed']\n",
            "fix_committed   =    2 , ['in_progress', 'fix_released']\n",
            "fix_released    =    1 , ['new']\n"
          ],
          "name": "stdout"
        }
      ]
    },
    {
      "cell_type": "code",
      "metadata": {
        "colab": {
          "base_uri": "https://localhost:8080/"
        },
        "id": "jkY_u4THtSLQ",
        "outputId": "7c59069b-a559-42e8-a1b6-a62c08cd5f2c"
      },
      "source": [
        "print('Value:', ProcessWorkflow.in_progress.value)"
      ],
      "execution_count": 51,
      "outputs": [
        {
          "output_type": "stream",
          "text": [
            "Value: {'num': 3, 'transitions': ['new', 'fix_committed']}\n"
          ],
          "name": "stdout"
        }
      ]
    },
    {
      "cell_type": "code",
      "metadata": {
        "colab": {
          "base_uri": "https://localhost:8080/"
        },
        "id": "A8TCL1-9wtZn",
        "outputId": "281f2e04-39f6-4847-97c8-8bae2acda360"
      },
      "source": [
        "print('Custom attribute:', ProcessWorkflow.in_progress.transitions)\n",
        "print('Using attribute:',\n",
        "      ProcessWorkflow.in_progress.can_transition(ProcessWorkflow.new))"
      ],
      "execution_count": 52,
      "outputs": [
        {
          "output_type": "stream",
          "text": [
            "Custom attribute: ['new', 'fix_committed']\n",
            "Using attribute: False\n"
          ],
          "name": "stdout"
        }
      ]
    }
  ]
}