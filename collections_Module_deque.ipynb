{
  "nbformat": 4,
  "nbformat_minor": 0,
  "metadata": {
    "colab": {
      "name": "collections Module - deque.ipynb",
      "provenance": [],
      "collapsed_sections": [],
      "authorship_tag": "ABX9TyPuyJIYqN2BjXBeZtGpsUv/",
      "include_colab_link": true
    },
    "kernelspec": {
      "name": "python3",
      "display_name": "Python 3"
    }
  },
  "cells": [
    {
      "cell_type": "markdown",
      "metadata": {
        "id": "view-in-github",
        "colab_type": "text"
      },
      "source": [
        "<a href=\"https://colab.research.google.com/github/mayankcircle/Advanced_Python/blob/main/collections_Module_deque.ipynb\" target=\"_parent\"><img src=\"https://colab.research.google.com/assets/colab-badge.svg\" alt=\"Open In Colab\"/></a>"
      ]
    },
    {
      "cell_type": "code",
      "metadata": {
        "id": "dxFCpBkzp5U9"
      },
      "source": [
        "from collections import deque"
      ],
      "execution_count": 2,
      "outputs": []
    },
    {
      "cell_type": "markdown",
      "metadata": {
        "id": "Mt4uHnRQqnVL"
      },
      "source": [
        "A double-ended queue, or deque, supports adding and removing elements from either end of the queue."
      ]
    },
    {
      "cell_type": "code",
      "metadata": {
        "colab": {
          "base_uri": "https://localhost:8080/"
        },
        "id": "f1KqJL8wqH5W",
        "outputId": "4cfcace8-99ab-489d-d46c-4760e0cd14bf"
      },
      "source": [
        "# if string is passed then each character is taken as an element\n",
        "d = deque(\"abcdefg\")\n",
        "d"
      ],
      "execution_count": 3,
      "outputs": [
        {
          "output_type": "execute_result",
          "data": {
            "text/plain": [
              "deque(['a', 'b', 'c', 'd', 'e', 'f', 'g'])"
            ]
          },
          "metadata": {
            "tags": []
          },
          "execution_count": 3
        }
      ]
    },
    {
      "cell_type": "code",
      "metadata": {
        "colab": {
          "base_uri": "https://localhost:8080/"
        },
        "id": "olS3p8lMqTlc",
        "outputId": "e708e8ed-fb90-4bf7-81fb-e1caad58536a"
      },
      "source": [
        "d = deque([\"a\",1,2,3,\"b\",4,\"b\",\"c\"])\n",
        "d"
      ],
      "execution_count": 6,
      "outputs": [
        {
          "output_type": "execute_result",
          "data": {
            "text/plain": [
              "deque(['a', 1, 2, 3, 'b', 4, 'b', 'c'])"
            ]
          },
          "metadata": {
            "tags": []
          },
          "execution_count": 6
        }
      ]
    },
    {
      "cell_type": "code",
      "metadata": {
        "colab": {
          "base_uri": "https://localhost:8080/"
        },
        "id": "-vkM3ib-qdvK",
        "outputId": "7cd457e5-f4a8-4128-e9ce-3d044612d002"
      },
      "source": [
        "len(d)"
      ],
      "execution_count": 7,
      "outputs": [
        {
          "output_type": "execute_result",
          "data": {
            "text/plain": [
              "8"
            ]
          },
          "metadata": {
            "tags": []
          },
          "execution_count": 7
        }
      ]
    },
    {
      "cell_type": "code",
      "metadata": {
        "id": "UGNeRu2CqjBz"
      },
      "source": [
        "# we can also delete any element from deque\n",
        "# if the element has multiple entries then it will delete only 1st entry\n",
        "d.remove(\"b\") # in-place"
      ],
      "execution_count": 8,
      "outputs": []
    },
    {
      "cell_type": "code",
      "metadata": {
        "colab": {
          "base_uri": "https://localhost:8080/"
        },
        "id": "-0_FKcjirFkT",
        "outputId": "3b87c6ac-ad66-4bb5-c9f1-afaaf6c7e200"
      },
      "source": [
        "d"
      ],
      "execution_count": 9,
      "outputs": [
        {
          "output_type": "execute_result",
          "data": {
            "text/plain": [
              "deque(['a', 1, 2, 3, 4, 'b', 'c'])"
            ]
          },
          "metadata": {
            "tags": []
          },
          "execution_count": 9
        }
      ]
    },
    {
      "cell_type": "markdown",
      "metadata": {
        "id": "8K3575vHraBH"
      },
      "source": [
        "# Populating elements in Deque"
      ]
    },
    {
      "cell_type": "code",
      "metadata": {
        "colab": {
          "base_uri": "https://localhost:8080/"
        },
        "id": "KI2Hh_6-rTBM",
        "outputId": "5e58737c-6784-4e3f-d921-cebe859d01b0"
      },
      "source": [
        "d = deque([1,2,3,4])\n",
        "d"
      ],
      "execution_count": 10,
      "outputs": [
        {
          "output_type": "execute_result",
          "data": {
            "text/plain": [
              "deque([1, 2, 3, 4])"
            ]
          },
          "metadata": {
            "tags": []
          },
          "execution_count": 10
        }
      ]
    },
    {
      "cell_type": "markdown",
      "metadata": {
        "id": "bVeODt5srtzF"
      },
      "source": [
        "**Append at right end**"
      ]
    },
    {
      "cell_type": "code",
      "metadata": {
        "colab": {
          "base_uri": "https://localhost:8080/"
        },
        "id": "L9HObCLtrzSG",
        "outputId": "6e05786d-3763-4121-fe35-46375e74586e"
      },
      "source": [
        "d.append(\"a\")\n",
        "d"
      ],
      "execution_count": 11,
      "outputs": [
        {
          "output_type": "execute_result",
          "data": {
            "text/plain": [
              "deque([1, 2, 3, 4, 'a'])"
            ]
          },
          "metadata": {
            "tags": []
          },
          "execution_count": 11
        }
      ]
    },
    {
      "cell_type": "markdown",
      "metadata": {
        "id": "ARNKKZk0r3nn"
      },
      "source": [
        "**Extend at right end**"
      ]
    },
    {
      "cell_type": "markdown",
      "metadata": {
        "id": "fIYN-piUr9ie"
      },
      "source": [
        "It is just append() multiple times"
      ]
    },
    {
      "cell_type": "code",
      "metadata": {
        "colab": {
          "base_uri": "https://localhost:8080/"
        },
        "id": "CFWWUJbEr7r1",
        "outputId": "33271506-5042-4175-a42d-131a90068cfa"
      },
      "source": [
        "d.extend(\"bcd\")\n",
        "d"
      ],
      "execution_count": 12,
      "outputs": [
        {
          "output_type": "execute_result",
          "data": {
            "text/plain": [
              "deque([1, 2, 3, 4, 'a', 'b', 'c', 'd'])"
            ]
          },
          "metadata": {
            "tags": []
          },
          "execution_count": 12
        }
      ]
    },
    {
      "cell_type": "markdown",
      "metadata": {
        "id": "qqchXtrrsXq2"
      },
      "source": [
        "**Append at left end**"
      ]
    },
    {
      "cell_type": "code",
      "metadata": {
        "colab": {
          "base_uri": "https://localhost:8080/"
        },
        "id": "XUA8JD2nsbN2",
        "outputId": "37ae2e08-80bc-40d9-abbf-1c531b719922"
      },
      "source": [
        "d.appendleft(\"z\")\n",
        "d"
      ],
      "execution_count": 13,
      "outputs": [
        {
          "output_type": "execute_result",
          "data": {
            "text/plain": [
              "deque(['z', 1, 2, 3, 4, 'a', 'b', 'c', 'd'])"
            ]
          },
          "metadata": {
            "tags": []
          },
          "execution_count": 13
        }
      ]
    },
    {
      "cell_type": "markdown",
      "metadata": {
        "id": "CU81glSAsbwr"
      },
      "source": [
        "**Extend at left end**"
      ]
    },
    {
      "cell_type": "code",
      "metadata": {
        "colab": {
          "base_uri": "https://localhost:8080/"
        },
        "id": "qN_n6Wumse2n",
        "outputId": "eb19e83e-d336-4fef-aa5d-d383039ab9e5"
      },
      "source": [
        "d.extendleft(\"xy\")\n",
        "d"
      ],
      "execution_count": 14,
      "outputs": [
        {
          "output_type": "execute_result",
          "data": {
            "text/plain": [
              "deque(['y', 'x', 'z', 1, 2, 3, 4, 'a', 'b', 'c', 'd'])"
            ]
          },
          "metadata": {
            "tags": []
          },
          "execution_count": 14
        }
      ]
    },
    {
      "cell_type": "markdown",
      "metadata": {
        "id": "HKcFnSVDtHTS"
      },
      "source": [
        "# Consuming Elements from Deque"
      ]
    },
    {
      "cell_type": "code",
      "metadata": {
        "colab": {
          "base_uri": "https://localhost:8080/"
        },
        "id": "vAcDJ0EitLaK",
        "outputId": "229dd6a0-ddf0-4ee3-ba3d-a3dc4daa6b5a"
      },
      "source": [
        "d = deque(['y', 'x', 'z', 1, 2, 3, 4, 'a', 'b', 'c', 'd'])\n",
        "d"
      ],
      "execution_count": 15,
      "outputs": [
        {
          "output_type": "execute_result",
          "data": {
            "text/plain": [
              "deque(['y', 'x', 'z', 1, 2, 3, 4, 'a', 'b', 'c', 'd'])"
            ]
          },
          "metadata": {
            "tags": []
          },
          "execution_count": 15
        }
      ]
    },
    {
      "cell_type": "markdown",
      "metadata": {
        "id": "uwjeQofNtUFS"
      },
      "source": [
        "**Consume from right end**"
      ]
    },
    {
      "cell_type": "code",
      "metadata": {
        "colab": {
          "base_uri": "https://localhost:8080/",
          "height": 35
        },
        "id": "ZZi9t30otaah",
        "outputId": "476ee12c-68a9-4c14-e754-b343f45265b5"
      },
      "source": [
        "# pop() returns the right most elemennt and then deletes that from deque\n",
        "d.pop()"
      ],
      "execution_count": 16,
      "outputs": [
        {
          "output_type": "execute_result",
          "data": {
            "application/vnd.google.colaboratory.intrinsic+json": {
              "type": "string"
            },
            "text/plain": [
              "'d'"
            ]
          },
          "metadata": {
            "tags": []
          },
          "execution_count": 16
        }
      ]
    },
    {
      "cell_type": "code",
      "metadata": {
        "colab": {
          "base_uri": "https://localhost:8080/"
        },
        "id": "j0oq66OEtc5N",
        "outputId": "93e498b1-d15e-46d5-d833-974494bbcd76"
      },
      "source": [
        "d"
      ],
      "execution_count": 17,
      "outputs": [
        {
          "output_type": "execute_result",
          "data": {
            "text/plain": [
              "deque(['y', 'x', 'z', 1, 2, 3, 4, 'a', 'b', 'c'])"
            ]
          },
          "metadata": {
            "tags": []
          },
          "execution_count": 17
        }
      ]
    },
    {
      "cell_type": "markdown",
      "metadata": {
        "id": "EWOqW_-UtfYx"
      },
      "source": [
        "**Consume from left end**"
      ]
    },
    {
      "cell_type": "code",
      "metadata": {
        "colab": {
          "base_uri": "https://localhost:8080/",
          "height": 35
        },
        "id": "uRO0gwgAtkul",
        "outputId": "eae5b3ea-8268-4abe-81eb-75edb95180bd"
      },
      "source": [
        "d.popleft()"
      ],
      "execution_count": 18,
      "outputs": [
        {
          "output_type": "execute_result",
          "data": {
            "application/vnd.google.colaboratory.intrinsic+json": {
              "type": "string"
            },
            "text/plain": [
              "'y'"
            ]
          },
          "metadata": {
            "tags": []
          },
          "execution_count": 18
        }
      ]
    },
    {
      "cell_type": "code",
      "metadata": {
        "colab": {
          "base_uri": "https://localhost:8080/"
        },
        "id": "hdQayodOtnH1",
        "outputId": "b1e45ed2-d1bb-494b-aa25-965a3b2aa307"
      },
      "source": [
        "d"
      ],
      "execution_count": 19,
      "outputs": [
        {
          "output_type": "execute_result",
          "data": {
            "text/plain": [
              "deque(['x', 'z', 1, 2, 3, 4, 'a', 'b', 'c'])"
            ]
          },
          "metadata": {
            "tags": []
          },
          "execution_count": 19
        }
      ]
    },
    {
      "cell_type": "markdown",
      "metadata": {
        "id": "gP_aJd93uDx0"
      },
      "source": [
        "# Rotating the deque"
      ]
    },
    {
      "cell_type": "code",
      "metadata": {
        "colab": {
          "base_uri": "https://localhost:8080/"
        },
        "id": "csPsiz4EuDcr",
        "outputId": "e5d9214b-d701-4e38-9ff7-f7fb7c998b8a"
      },
      "source": [
        "d = deque(range(9))\n",
        "d"
      ],
      "execution_count": 20,
      "outputs": [
        {
          "output_type": "execute_result",
          "data": {
            "text/plain": [
              "deque([0, 1, 2, 3, 4, 5, 6, 7, 8])"
            ]
          },
          "metadata": {
            "tags": []
          },
          "execution_count": 20
        }
      ]
    },
    {
      "cell_type": "markdown",
      "metadata": {
        "id": "5gkEV-3nuSSY"
      },
      "source": [
        "Left shift by one element"
      ]
    },
    {
      "cell_type": "code",
      "metadata": {
        "colab": {
          "base_uri": "https://localhost:8080/"
        },
        "id": "nSVBzMY8uLEk",
        "outputId": "a8f508e8-2682-453d-b7b7-f4110ca36728"
      },
      "source": [
        "d.rotate(-1) # in-place\n",
        "d"
      ],
      "execution_count": 21,
      "outputs": [
        {
          "output_type": "execute_result",
          "data": {
            "text/plain": [
              "deque([1, 2, 3, 4, 5, 6, 7, 8, 0])"
            ]
          },
          "metadata": {
            "tags": []
          },
          "execution_count": 21
        }
      ]
    },
    {
      "cell_type": "markdown",
      "metadata": {
        "id": "lf6uyCixuU0q"
      },
      "source": [
        "Right shift by 2 elements"
      ]
    },
    {
      "cell_type": "code",
      "metadata": {
        "colab": {
          "base_uri": "https://localhost:8080/"
        },
        "id": "Wakm_NM-uZ3J",
        "outputId": "afb5e921-f74a-40ee-9d5d-81129518289d"
      },
      "source": [
        "d.rotate(2)\n",
        "d"
      ],
      "execution_count": 22,
      "outputs": [
        {
          "output_type": "execute_result",
          "data": {
            "text/plain": [
              "deque([8, 0, 1, 2, 3, 4, 5, 6, 7])"
            ]
          },
          "metadata": {
            "tags": []
          },
          "execution_count": 22
        }
      ]
    },
    {
      "cell_type": "markdown",
      "metadata": {
        "id": "rzGGVT-gvkc5"
      },
      "source": [
        "# Constraining the Queue Size"
      ]
    },
    {
      "cell_type": "markdown",
      "metadata": {
        "id": "uSHoYFyUvtRM"
      },
      "source": [
        "**A deque instance can be configured with a maximum length so that it never grows beyond that size. When the queue reaches the specified length, existing items are discarded as new items are added. This behavior is useful for finding the last n items in a stream of undetermined length.**"
      ]
    },
    {
      "cell_type": "code",
      "metadata": {
        "id": "y3QCxwQgvwP7"
      },
      "source": [
        "d = deque(maxlen=3)"
      ],
      "execution_count": 28,
      "outputs": []
    },
    {
      "cell_type": "code",
      "metadata": {
        "colab": {
          "base_uri": "https://localhost:8080/"
        },
        "id": "oMKzOlSVwOvK",
        "outputId": "cfb50b4d-6e8b-4e67-852b-8d42323627de"
      },
      "source": [
        "d.append(1)\n",
        "d"
      ],
      "execution_count": 29,
      "outputs": [
        {
          "output_type": "execute_result",
          "data": {
            "text/plain": [
              "deque([1])"
            ]
          },
          "metadata": {
            "tags": []
          },
          "execution_count": 29
        }
      ]
    },
    {
      "cell_type": "code",
      "metadata": {
        "colab": {
          "base_uri": "https://localhost:8080/"
        },
        "id": "A7fiGhDiwR0m",
        "outputId": "12c9fdd3-8128-40fd-f569-f0e58f1c5470"
      },
      "source": [
        "d.append(2)\n",
        "d"
      ],
      "execution_count": 30,
      "outputs": [
        {
          "output_type": "execute_result",
          "data": {
            "text/plain": [
              "deque([1, 2])"
            ]
          },
          "metadata": {
            "tags": []
          },
          "execution_count": 30
        }
      ]
    },
    {
      "cell_type": "code",
      "metadata": {
        "colab": {
          "base_uri": "https://localhost:8080/"
        },
        "id": "neikV0gJwUvE",
        "outputId": "6595cb47-0475-4c18-976c-1c608f4967eb"
      },
      "source": [
        "d.append(3)\n",
        "d"
      ],
      "execution_count": 31,
      "outputs": [
        {
          "output_type": "execute_result",
          "data": {
            "text/plain": [
              "deque([1, 2, 3])"
            ]
          },
          "metadata": {
            "tags": []
          },
          "execution_count": 31
        }
      ]
    },
    {
      "cell_type": "code",
      "metadata": {
        "colab": {
          "base_uri": "https://localhost:8080/"
        },
        "id": "wjBz_BkAwWIb",
        "outputId": "21215227-4447-4cdd-8865-d18e8df1706d"
      },
      "source": [
        "d.append(4)\n",
        "d"
      ],
      "execution_count": 32,
      "outputs": [
        {
          "output_type": "execute_result",
          "data": {
            "text/plain": [
              "deque([2, 3, 4])"
            ]
          },
          "metadata": {
            "tags": []
          },
          "execution_count": 32
        }
      ]
    },
    {
      "cell_type": "code",
      "metadata": {
        "colab": {
          "base_uri": "https://localhost:8080/"
        },
        "id": "b8XTYztDwXdz",
        "outputId": "d1234a63-e350-4788-d76a-f0244ca44472"
      },
      "source": [
        "d.append(5)\n",
        "d"
      ],
      "execution_count": 33,
      "outputs": [
        {
          "output_type": "execute_result",
          "data": {
            "text/plain": [
              "deque([3, 4, 5])"
            ]
          },
          "metadata": {
            "tags": []
          },
          "execution_count": 33
        }
      ]
    },
    {
      "cell_type": "code",
      "metadata": {
        "colab": {
          "base_uri": "https://localhost:8080/"
        },
        "id": "mh74VddPwek7",
        "outputId": "47fca379-6669-4c43-972a-41e6d7420f77"
      },
      "source": [
        "d.appendleft(6)\n",
        "d"
      ],
      "execution_count": 34,
      "outputs": [
        {
          "output_type": "execute_result",
          "data": {
            "text/plain": [
              "deque([6, 3, 4])"
            ]
          },
          "metadata": {
            "tags": []
          },
          "execution_count": 34
        }
      ]
    },
    {
      "cell_type": "code",
      "metadata": {
        "colab": {
          "base_uri": "https://localhost:8080/"
        },
        "id": "jBdhCtQCws-2",
        "outputId": "fb8f4d38-b1f0-4fbc-eff7-7748c9d5dbe3"
      },
      "source": [
        "d.appendleft(7)\n",
        "d"
      ],
      "execution_count": 35,
      "outputs": [
        {
          "output_type": "execute_result",
          "data": {
            "text/plain": [
              "deque([7, 6, 3])"
            ]
          },
          "metadata": {
            "tags": []
          },
          "execution_count": 35
        }
      ]
    },
    {
      "cell_type": "markdown",
      "metadata": {
        "id": "1l-MnV1_w1b2"
      },
      "source": [
        "# Deque are Thread-safe"
      ]
    },
    {
      "cell_type": "markdown",
      "metadata": {
        "id": "hSqCMVcSw7eR"
      },
      "source": [
        "The contents can even be consumed from both ends at the same time from separate threads."
      ]
    },
    {
      "cell_type": "code",
      "metadata": {
        "id": "KQLT-s2Qw9N8"
      },
      "source": [
        "import threading\n",
        "import time"
      ],
      "execution_count": 41,
      "outputs": []
    },
    {
      "cell_type": "code",
      "metadata": {
        "colab": {
          "base_uri": "https://localhost:8080/"
        },
        "id": "cH9RuxeyxAy3",
        "outputId": "b3d3004f-205e-4d37-934b-5eea338be296"
      },
      "source": [
        "d = deque(range(10))\n",
        "d"
      ],
      "execution_count": 45,
      "outputs": [
        {
          "output_type": "execute_result",
          "data": {
            "text/plain": [
              "deque([0, 1, 2, 3, 4, 5, 6, 7, 8, 9])"
            ]
          },
          "metadata": {
            "tags": []
          },
          "execution_count": 45
        }
      ]
    },
    {
      "cell_type": "code",
      "metadata": {
        "id": "YU64D3ncxOP3"
      },
      "source": [
        "def burn(direction, nextSource):\n",
        "    while True:\n",
        "        try:\n",
        "            next = nextSource() # when there is nothing to pop then it will give IndexError\n",
        "        except IndexError:\n",
        "            break\n",
        "        else:\n",
        "            print('{:>8}: {}'.format(direction, next))\n",
        "            time.sleep(0.1) # switching between thread will happend here\n",
        "    print('{:>8} done'.format(direction))\n",
        "    return"
      ],
      "execution_count": 38,
      "outputs": []
    },
    {
      "cell_type": "code",
      "metadata": {
        "id": "GKg8i4KFxP-8"
      },
      "source": [
        "# Defining Thread\n",
        "left = threading.Thread(target=burn,\n",
        "                        args=('Left', d.popleft))\n",
        "right = threading.Thread(target=burn,\n",
        "                         args=('Right', d.pop))"
      ],
      "execution_count": 46,
      "outputs": []
    },
    {
      "cell_type": "code",
      "metadata": {
        "colab": {
          "base_uri": "https://localhost:8080/"
        },
        "id": "gjnH27A3yAlH",
        "outputId": "2b3bf913-bd0a-4a01-d0f8-cb5b1d0380f4"
      },
      "source": [
        "left.start()\n",
        "right.start()"
      ],
      "execution_count": 47,
      "outputs": [
        {
          "output_type": "stream",
          "text": [
            "    Left: 0\n",
            "   Right: 9\n",
            "    Left: 1\n",
            "   Right: 8\n",
            "    Left: 2\n",
            "   Right: 7\n",
            "    Left: 3\n",
            "   Right: 6\n",
            "    Left: 4\n",
            "   Right: 5\n"
          ],
          "name": "stdout"
        }
      ]
    }
  ]
}