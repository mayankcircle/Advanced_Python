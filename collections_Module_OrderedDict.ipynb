{
  "nbformat": 4,
  "nbformat_minor": 0,
  "metadata": {
    "colab": {
      "name": "collections Module - OrderedDict.ipynb",
      "provenance": [],
      "collapsed_sections": [],
      "authorship_tag": "ABX9TyOBE0gbCQQR45odVpBnTL87",
      "include_colab_link": true
    },
    "kernelspec": {
      "name": "python3",
      "display_name": "Python 3"
    }
  },
  "cells": [
    {
      "cell_type": "markdown",
      "metadata": {
        "id": "view-in-github",
        "colab_type": "text"
      },
      "source": [
        "<a href=\"https://colab.research.google.com/github/mayankcircle/Advanced_Python/blob/main/collections_Module_OrderedDict.ipynb\" target=\"_parent\"><img src=\"https://colab.research.google.com/assets/colab-badge.svg\" alt=\"Open In Colab\"/></a>"
      ]
    },
    {
      "cell_type": "code",
      "metadata": {
        "id": "q0GKd84_bDdc"
      },
      "source": [
        "from collections import OrderedDict"
      ],
      "execution_count": 3,
      "outputs": []
    },
    {
      "cell_type": "markdown",
      "metadata": {
        "id": "_Ofb9AajbQ6k"
      },
      "source": [
        "An OrderedDict is a dictionary subclass that remembers the order in which its contents are added."
      ]
    },
    {
      "cell_type": "markdown",
      "metadata": {
        "id": "-lWwgFGobYo3"
      },
      "source": [
        "**Before Python 3.6 a regular dict did not track the insertion order, and iterating over it produced the values in order based on how the keys are stored in the hash table, which is in turn influenced by a random value to reduce collisions. In an OrderedDict, by contrast, the order in which the items are inserted is remembered and used when creating an iterator.**"
      ]
    },
    {
      "cell_type": "code",
      "metadata": {
        "colab": {
          "base_uri": "https://localhost:8080/"
        },
        "id": "sfpt0tPHbayK",
        "outputId": "b4dddb34-ba26-4898-c822-34b5f14a0ebe"
      },
      "source": [
        "# In python 3.6 and after, basic dict has elements in order. But we should not depend on it.\n",
        "d = {}\n",
        "d[\"a\"] = \"A\"\n",
        "d[\"b\"] = \"B\"\n",
        "d[\"c\"] = \"C\"\n",
        "\n",
        "for key,value in d.items():\n",
        "    print(key,value)"
      ],
      "execution_count": 4,
      "outputs": [
        {
          "output_type": "stream",
          "text": [
            "a A\n",
            "b B\n",
            "c C\n"
          ],
          "name": "stdout"
        }
      ]
    },
    {
      "cell_type": "code",
      "metadata": {
        "colab": {
          "base_uri": "https://localhost:8080/"
        },
        "id": "wdDoySaScs86",
        "outputId": "a468e648-47b2-47d9-d381-b106c0f897a7"
      },
      "source": [
        "d = OrderedDict()\n",
        "d[\"a\"] = \"A\"\n",
        "d[\"b\"] = \"B\"\n",
        "d[\"c\"] = \"C\"\n",
        "\n",
        "for key,value in d.items():\n",
        "    print(key,value)"
      ],
      "execution_count": 5,
      "outputs": [
        {
          "output_type": "stream",
          "text": [
            "a A\n",
            "b B\n",
            "c C\n"
          ],
          "name": "stdout"
        }
      ]
    },
    {
      "cell_type": "markdown",
      "metadata": {
        "id": "D7fFX7P0dDGw"
      },
      "source": [
        "# Equality between dictionary"
      ]
    },
    {
      "cell_type": "markdown",
      "metadata": {
        "id": "PnTaE7EGdL_t"
      },
      "source": [
        "A regular dict looks at its contents when testing for equality. An OrderedDict also considers the order in which the items were added."
      ]
    },
    {
      "cell_type": "code",
      "metadata": {
        "colab": {
          "base_uri": "https://localhost:8080/"
        },
        "id": "_ALwqjF9dHJw",
        "outputId": "468a9b05-8a10-48bd-aec3-0668c4481c1f"
      },
      "source": [
        "# Regular Dict\n",
        "\n",
        "d1 = {}\n",
        "d1['a'] = 'A'\n",
        "d1['b'] = 'B'\n",
        "d1['c'] = 'C'\n",
        "\n",
        "d2 = {}\n",
        "d2['c'] = 'C'\n",
        "d2['b'] = 'B'\n",
        "d2['a'] = 'A'\n",
        "\n",
        "d1 == d2"
      ],
      "execution_count": 6,
      "outputs": [
        {
          "output_type": "execute_result",
          "data": {
            "text/plain": [
              "True"
            ]
          },
          "metadata": {
            "tags": []
          },
          "execution_count": 6
        }
      ]
    },
    {
      "cell_type": "code",
      "metadata": {
        "colab": {
          "base_uri": "https://localhost:8080/"
        },
        "id": "tc1qAYvrdabF",
        "outputId": "8abd4fa8-0e20-4b74-d1c2-710fc2e4494c"
      },
      "source": [
        "# Ordered Dict\n",
        "\n",
        "d1 = OrderedDict()\n",
        "d1['a'] = 'A'\n",
        "d1['b'] = 'B'\n",
        "d1['c'] = 'C'\n",
        "\n",
        "d2 = OrderedDict()\n",
        "d2['c'] = 'C'\n",
        "d2['b'] = 'B'\n",
        "d2['a'] = 'A'\n",
        "\n",
        "d1 == d2\n"
      ],
      "execution_count": 7,
      "outputs": [
        {
          "output_type": "execute_result",
          "data": {
            "text/plain": [
              "False"
            ]
          },
          "metadata": {
            "tags": []
          },
          "execution_count": 7
        }
      ]
    },
    {
      "cell_type": "markdown",
      "metadata": {
        "id": "WUDApFGMdo8B"
      },
      "source": [
        "# Reordering the OrderedDict"
      ]
    },
    {
      "cell_type": "markdown",
      "metadata": {
        "id": "3x1JLqDmd0vy"
      },
      "source": [
        "It is possible to change the order of the keys in an OrderedDict by moving them to either the beginning or the end of the sequence using move_to_end()."
      ]
    },
    {
      "cell_type": "code",
      "metadata": {
        "colab": {
          "base_uri": "https://localhost:8080/"
        },
        "id": "_q1UebwQduj9",
        "outputId": "946ea8f6-9f88-41b5-9c9c-7542f2d1c96e"
      },
      "source": [
        "d = OrderedDict()\n",
        "d[\"a\"] = \"A\"\n",
        "d[\"b\"] = \"B\"\n",
        "d[\"c\"] = \"C\"\n",
        "d[\"d\"] = \"D\"\n",
        "\n",
        "for key,value in d.items():\n",
        "    print(key,value)"
      ],
      "execution_count": 12,
      "outputs": [
        {
          "output_type": "stream",
          "text": [
            "a A\n",
            "b B\n",
            "c C\n",
            "d D\n"
          ],
          "name": "stdout"
        }
      ]
    },
    {
      "cell_type": "code",
      "metadata": {
        "colab": {
          "base_uri": "https://localhost:8080/"
        },
        "id": "aKm3BuRXd6ad",
        "outputId": "bd74f2b7-4ec0-4bbd-e20e-10604825d433"
      },
      "source": [
        "d.move_to_end(\"b\") #in-place\n",
        "\n",
        "for key,value in d.items():\n",
        "    print(key,value)"
      ],
      "execution_count": 13,
      "outputs": [
        {
          "output_type": "stream",
          "text": [
            "a A\n",
            "c C\n",
            "d D\n",
            "b B\n"
          ],
          "name": "stdout"
        }
      ]
    },
    {
      "cell_type": "code",
      "metadata": {
        "colab": {
          "base_uri": "https://localhost:8080/"
        },
        "id": "FD0nTdBTeDni",
        "outputId": "c73fa352-16ce-453d-deb9-a2a139738bda"
      },
      "source": [
        "# To move at top end, we use last=False\n",
        "d.move_to_end('b', last=False)\n",
        "\n",
        "for key,value in d.items():\n",
        "    print(key,value)"
      ],
      "execution_count": 14,
      "outputs": [
        {
          "output_type": "stream",
          "text": [
            "b B\n",
            "a A\n",
            "c C\n",
            "d D\n"
          ],
          "name": "stdout"
        }
      ]
    }
  ]
}