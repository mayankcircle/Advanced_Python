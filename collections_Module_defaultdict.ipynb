{
  "nbformat": 4,
  "nbformat_minor": 0,
  "metadata": {
    "colab": {
      "name": "collections Module - defaultdict.ipynb",
      "provenance": [],
      "collapsed_sections": [],
      "authorship_tag": "ABX9TyO3PnpF7Boycbtwx8U+ZclB",
      "include_colab_link": true
    },
    "kernelspec": {
      "name": "python3",
      "display_name": "Python 3"
    }
  },
  "cells": [
    {
      "cell_type": "markdown",
      "metadata": {
        "id": "view-in-github",
        "colab_type": "text"
      },
      "source": [
        "<a href=\"https://colab.research.google.com/github/mayankcircle/Advanced_Python/blob/main/collections_Module_defaultdict.ipynb\" target=\"_parent\"><img src=\"https://colab.research.google.com/assets/colab-badge.svg\" alt=\"Open In Colab\"/></a>"
      ]
    },
    {
      "cell_type": "code",
      "metadata": {
        "id": "-eTPMflm3t11"
      },
      "source": [
        "from collections import defaultdict"
      ],
      "execution_count": 1,
      "outputs": []
    },
    {
      "cell_type": "markdown",
      "metadata": {
        "id": "ptrwnV32-4K0"
      },
      "source": [
        "defaultdict is a subclass of the built-in dict class."
      ]
    },
    {
      "cell_type": "markdown",
      "metadata": {
        "id": "5dd-l3frBCG4"
      },
      "source": [
        "Suppose we need to count the characters in the string"
      ]
    },
    {
      "cell_type": "code",
      "metadata": {
        "id": "I6tSaPR9BP4v"
      },
      "source": [
        "s = 'mississippi'"
      ],
      "execution_count": 2,
      "outputs": []
    },
    {
      "cell_type": "markdown",
      "metadata": {
        "id": "MsyqnSx9Bgx-"
      },
      "source": [
        "**Basic Dictionary Approch will give error when we encounter any character 1st time.**"
      ]
    },
    {
      "cell_type": "code",
      "metadata": {
        "colab": {
          "base_uri": "https://localhost:8080/",
          "height": 203
        },
        "id": "Ox5NNzrk35_A",
        "outputId": "dc379dc1-cfc4-4b92-b53d-f5cc03e911a1"
      },
      "source": [
        "countDict = dict()\n",
        "\n",
        "for c in s:\n",
        "    countDict[c]+=1"
      ],
      "execution_count": 3,
      "outputs": [
        {
          "output_type": "error",
          "ename": "KeyError",
          "evalue": "ignored",
          "traceback": [
            "\u001b[0;31m---------------------------------------------------------------------------\u001b[0m",
            "\u001b[0;31mKeyError\u001b[0m                                  Traceback (most recent call last)",
            "\u001b[0;32m<ipython-input-3-5d6b69eb4edf>\u001b[0m in \u001b[0;36m<module>\u001b[0;34m()\u001b[0m\n\u001b[1;32m      2\u001b[0m \u001b[0;34m\u001b[0m\u001b[0m\n\u001b[1;32m      3\u001b[0m \u001b[0;32mfor\u001b[0m \u001b[0mc\u001b[0m \u001b[0;32min\u001b[0m \u001b[0ms\u001b[0m\u001b[0;34m:\u001b[0m\u001b[0;34m\u001b[0m\u001b[0;34m\u001b[0m\u001b[0m\n\u001b[0;32m----> 4\u001b[0;31m     \u001b[0mcountDict\u001b[0m\u001b[0;34m[\u001b[0m\u001b[0mc\u001b[0m\u001b[0;34m]\u001b[0m\u001b[0;34m+=\u001b[0m\u001b[0;36m1\u001b[0m\u001b[0;34m\u001b[0m\u001b[0;34m\u001b[0m\u001b[0m\n\u001b[0m",
            "\u001b[0;31mKeyError\u001b[0m: 'm'"
          ]
        }
      ]
    },
    {
      "cell_type": "markdown",
      "metadata": {
        "id": "dCZCDd8aBsjW"
      },
      "source": [
        "We need to set some default value. This can be done using defaultdict."
      ]
    },
    {
      "cell_type": "code",
      "metadata": {
        "colab": {
          "base_uri": "https://localhost:8080/"
        },
        "id": "WJS--64rB25S",
        "outputId": "b84aff55-6c08-4aea-efb5-f3c7676ed76e"
      },
      "source": [
        "# int() constructor gives 0 value default.\n",
        "int()"
      ],
      "execution_count": 5,
      "outputs": [
        {
          "output_type": "execute_result",
          "data": {
            "text/plain": [
              "0"
            ]
          },
          "metadata": {
            "tags": []
          },
          "execution_count": 5
        }
      ]
    },
    {
      "cell_type": "code",
      "metadata": {
        "colab": {
          "base_uri": "https://localhost:8080/"
        },
        "id": "JhBncoa0CDT2",
        "outputId": "70b73942-fd49-4980-d675-e7957f550712"
      },
      "source": [
        "countDict = defaultdict(int) # it says that when key is not present, it will be initialize as int() value which is 0.\n",
        "\n",
        "for c in s:\n",
        "    countDict[c]+=1\n",
        "\n",
        "countDict"
      ],
      "execution_count": 6,
      "outputs": [
        {
          "output_type": "execute_result",
          "data": {
            "text/plain": [
              "defaultdict(int, {'i': 4, 'm': 1, 'p': 2, 's': 4})"
            ]
          },
          "metadata": {
            "tags": []
          },
          "execution_count": 6
        }
      ]
    },
    {
      "cell_type": "markdown",
      "metadata": {
        "id": "19iX7JnODLBB"
      },
      "source": [
        "# What if we want a default value any contant ?"
      ]
    },
    {
      "cell_type": "markdown",
      "metadata": {
        "id": "DNPh79bEEyXS"
      },
      "source": [
        "**We can not directly write constant in deafultdict constructor since this should be callable - list, string or function etc**"
      ]
    },
    {
      "cell_type": "code",
      "metadata": {
        "colab": {
          "base_uri": "https://localhost:8080/",
          "height": 238
        },
        "id": "g34ONbWUDKCf",
        "outputId": "aaf200cf-9306-4347-c522-b173bf56c8c2"
      },
      "source": [
        "countDict = defaultdict(10) # it says that when key is not present, it will be initialize as int() value which is 0.\n",
        "\n",
        "for c in s:\n",
        "    countDict[c]+=1\n",
        "\n",
        "countDict"
      ],
      "execution_count": 7,
      "outputs": [
        {
          "output_type": "error",
          "ename": "TypeError",
          "evalue": "ignored",
          "traceback": [
            "\u001b[0;31m---------------------------------------------------------------------------\u001b[0m",
            "\u001b[0;31mTypeError\u001b[0m                                 Traceback (most recent call last)",
            "\u001b[0;32m<ipython-input-7-1e95c2b029a8>\u001b[0m in \u001b[0;36m<module>\u001b[0;34m()\u001b[0m\n\u001b[0;32m----> 1\u001b[0;31m \u001b[0mcountDict\u001b[0m \u001b[0;34m=\u001b[0m \u001b[0mdefaultdict\u001b[0m\u001b[0;34m(\u001b[0m\u001b[0;36m0\u001b[0m\u001b[0;34m)\u001b[0m \u001b[0;31m# it says that when key is not present, it will be initialize as int() value which is 0.\u001b[0m\u001b[0;34m\u001b[0m\u001b[0;34m\u001b[0m\u001b[0m\n\u001b[0m\u001b[1;32m      2\u001b[0m \u001b[0;34m\u001b[0m\u001b[0m\n\u001b[1;32m      3\u001b[0m \u001b[0;32mfor\u001b[0m \u001b[0mc\u001b[0m \u001b[0;32min\u001b[0m \u001b[0ms\u001b[0m\u001b[0;34m:\u001b[0m\u001b[0;34m\u001b[0m\u001b[0;34m\u001b[0m\u001b[0m\n\u001b[1;32m      4\u001b[0m     \u001b[0mcountDict\u001b[0m\u001b[0;34m[\u001b[0m\u001b[0mc\u001b[0m\u001b[0;34m]\u001b[0m\u001b[0;34m+=\u001b[0m\u001b[0;36m1\u001b[0m\u001b[0;34m\u001b[0m\u001b[0;34m\u001b[0m\u001b[0m\n\u001b[1;32m      5\u001b[0m \u001b[0;34m\u001b[0m\u001b[0m\n",
            "\u001b[0;31mTypeError\u001b[0m: first argument must be callable or None"
          ]
        }
      ]
    },
    {
      "cell_type": "markdown",
      "metadata": {
        "id": "twUgWULJDV8p"
      },
      "source": [
        "A faster and more flexible way to create constant functions is to use a lambda function which can supply any constant value (not just zero):"
      ]
    },
    {
      "cell_type": "code",
      "metadata": {
        "id": "rhK5OFGCFU9V"
      },
      "source": [
        "# This function returns lambda function object\n",
        "def constant_factory(value):\n",
        "    return lambda: value"
      ],
      "execution_count": 8,
      "outputs": []
    },
    {
      "cell_type": "code",
      "metadata": {
        "colab": {
          "base_uri": "https://localhost:8080/"
        },
        "id": "SWasqoiZFxM3",
        "outputId": "907ba695-226e-471f-deab-7f3de19b91f0"
      },
      "source": [
        "constant_factory(10)"
      ],
      "execution_count": 9,
      "outputs": [
        {
          "output_type": "execute_result",
          "data": {
            "text/plain": [
              "<function __main__.constant_factory.<locals>.<lambda>>"
            ]
          },
          "metadata": {
            "tags": []
          },
          "execution_count": 9
        }
      ]
    },
    {
      "cell_type": "code",
      "metadata": {
        "colab": {
          "base_uri": "https://localhost:8080/"
        },
        "id": "PPg1TmqxFcbK",
        "outputId": "70782fda-6c9e-40b1-d01c-742d5acd1b4c"
      },
      "source": [
        "countDict = defaultdict(constant_factory(10))\n",
        "\n",
        "for c in s:\n",
        "    countDict[c]+=1\n",
        "\n",
        "countDict"
      ],
      "execution_count": 10,
      "outputs": [
        {
          "output_type": "execute_result",
          "data": {
            "text/plain": [
              "defaultdict(<function __main__.constant_factory.<locals>.<lambda>>,\n",
              "            {'i': 14, 'm': 11, 'p': 12, 's': 14})"
            ]
          },
          "metadata": {
            "tags": []
          },
          "execution_count": 10
        }
      ]
    },
    {
      "cell_type": "code",
      "metadata": {
        "colab": {
          "base_uri": "https://localhost:8080/"
        },
        "id": "Sfzb3w3ZGU_T",
        "outputId": "8f784689-7563-4b5c-fc56-7a2d697a7460"
      },
      "source": [
        "# Search a key which is not present there will be resulted as default value\n",
        "countDict[\"H\"]"
      ],
      "execution_count": 12,
      "outputs": [
        {
          "output_type": "execute_result",
          "data": {
            "text/plain": [
              "10"
            ]
          },
          "metadata": {
            "tags": []
          },
          "execution_count": 12
        }
      ]
    }
  ]
}